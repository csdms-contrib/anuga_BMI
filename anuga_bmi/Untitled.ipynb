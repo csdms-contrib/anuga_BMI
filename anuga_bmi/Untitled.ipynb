{
 "cells": [
  {
   "cell_type": "code",
   "execution_count": 5,
   "metadata": {},
   "outputs": [
    {
     "ename": "KeyError",
     "evalue": "'stage'",
     "output_type": "error",
     "traceback": [
      "\u001b[0;31m---------------------------------------------------------------------------\u001b[0m",
      "\u001b[0;31mKeyError\u001b[0m                                  Traceback (most recent call last)",
      "\u001b[0;32m<ipython-input-5-5bf02447eb3b>\u001b[0m in \u001b[0;36m<module>\u001b[0;34m()\u001b[0m\n\u001b[1;32m     28\u001b[0m \u001b[0;32mif\u001b[0m \u001b[0m__name__\u001b[0m \u001b[0;34m==\u001b[0m \u001b[0;34m'__main__'\u001b[0m\u001b[0;34m:\u001b[0m\u001b[0;34m\u001b[0m\u001b[0m\n\u001b[1;32m     29\u001b[0m     \u001b[0msww\u001b[0m \u001b[0;34m=\u001b[0m \u001b[0mBmiAnuga\u001b[0m\u001b[0;34m(\u001b[0m\u001b[0;34m)\u001b[0m\u001b[0;34m\u001b[0m\u001b[0m\n\u001b[0;32m---> 30\u001b[0;31m     \u001b[0msww\u001b[0m\u001b[0;34m.\u001b[0m\u001b[0minitialize\u001b[0m\u001b[0;34m(\u001b[0m\u001b[0;34m'anuga.yaml'\u001b[0m\u001b[0;34m)\u001b[0m\u001b[0;34m\u001b[0m\u001b[0m\n\u001b[0m\u001b[1;32m     31\u001b[0m \u001b[0;34m\u001b[0m\u001b[0m\n\u001b[1;32m     32\u001b[0m \u001b[0;34m\u001b[0m\u001b[0m\n",
      "\u001b[0;32m/Users/mari/Desktop/work/anuga_github/anuga_BMI/anuga_bmi/bmi_anuga.pyc\u001b[0m in \u001b[0;36minitialize\u001b[0;34m(self, filename)\u001b[0m\n\u001b[1;32m     40\u001b[0m         self._anuga = AnugaSolver(\n\u001b[1;32m     41\u001b[0m             \u001b[0mdomain_shape\u001b[0m\u001b[0;34m=\u001b[0m\u001b[0mparams\u001b[0m\u001b[0;34m[\u001b[0m\u001b[0;34m'domain_shape'\u001b[0m\u001b[0;34m]\u001b[0m\u001b[0;34m,\u001b[0m\u001b[0;34m\u001b[0m\u001b[0m\n\u001b[0;32m---> 42\u001b[0;31m             \u001b[0mshape\u001b[0m\u001b[0;34m=\u001b[0m\u001b[0mparams\u001b[0m\u001b[0;34m[\u001b[0m\u001b[0;34m'shape'\u001b[0m\u001b[0;34m]\u001b[0m\u001b[0;34m,\u001b[0m\u001b[0;34m\u001b[0m\u001b[0m\n\u001b[0m\u001b[1;32m     43\u001b[0m             \u001b[0msize\u001b[0m\u001b[0;34m=\u001b[0m\u001b[0mparams\u001b[0m\u001b[0;34m[\u001b[0m\u001b[0;34m'size'\u001b[0m\u001b[0;34m]\u001b[0m\u001b[0;34m,\u001b[0m\u001b[0;34m\u001b[0m\u001b[0m\n\u001b[1;32m     44\u001b[0m             \u001b[0mfriction\u001b[0m\u001b[0;34m=\u001b[0m\u001b[0mparams\u001b[0m\u001b[0;34m[\u001b[0m\u001b[0;34m'friction'\u001b[0m\u001b[0;34m]\u001b[0m\u001b[0;34m,\u001b[0m\u001b[0;34m\u001b[0m\u001b[0m\n",
      "\u001b[0;31mKeyError\u001b[0m: 'stage'"
     ]
    }
   ],
   "source": [
    "import sys\n",
    "default_stdout = sys.stdout\n",
    "default_stderr = sys.stderr\n",
    "\n",
    "import sys\n",
    "\n",
    "\n",
    "import matplotlib.pyplot as plt\n",
    "%matplotlib inline\n",
    "\n",
    "from __future__ import print_function\n",
    "\n",
    "import sys\n",
    "import numpy as np\n",
    "\n",
    "from bmi_anuga import BmiAnuga\n",
    "\n",
    "reload(sys)\n",
    "sys.stdout = default_stdout\n",
    "sys.stderr = default_stderr\n",
    "\n",
    "\n",
    "\n",
    "np.set_printoptions(linewidth=120,\n",
    "                    formatter={'float_kind': lambda x : '%6.4F' % x})\n",
    "\n",
    "\n",
    "if __name__ == '__main__':\n",
    "    sww = BmiAnuga()\n",
    "    sww.initialize('anuga.yaml')\n",
    "    \n",
    "\n",
    "    for time in np.linspace(0., 100., 5):\n",
    "        sww.update_until(time)\n",
    "\n",
    "    "
   ]
  },
  {
   "cell_type": "code",
   "execution_count": 1,
   "metadata": {
    "collapsed": true
   },
   "outputs": [],
   "source": [
    "import yaml"
   ]
  },
  {
   "cell_type": "code",
   "execution_count": 76,
   "metadata": {
    "collapsed": true
   },
   "outputs": [],
   "source": [
    "default_params = {'domain_shape':'square',\n",
    "                          'shape':(10.,5.),\n",
    "                          'size':(10.,5.),\n",
    "                          'friction':0.,\n",
    "                          'outline_filename':None,\n",
    "                          'elevation_filename':None,\n",
    "                          'output_filename':'anuga_output',\n",
    "                          'output_timestep':10,\n",
    "                          'timestep':1,\n",
    "                          'boundary_tags':['left', 'right', 'top', 'bottom'],\n",
    "                          'boundary_conditions':{'left': 'Reflective',\n",
    "                                       'right': ['Dirichlet', 5, 0, 0],\n",
    "                                       'top': 'Reflective',\n",
    "                                       'bottom': 'Reflective'},\n",
    "                          'maximum_triangle_area':10}\n",
    "        \n",
    "with open('anuga.yaml', 'r') as file_obj:\n",
    "    params = yaml.load(file_obj)\n"
   ]
  },
  {
   "cell_type": "code",
   "execution_count": 77,
   "metadata": {},
   "outputs": [
    {
     "ename": "AssertionError",
     "evalue": "The boundary names for square domains must be ['left', 'right', 'top', 'bottom']. Check that your boundary conditions use those names.",
     "output_type": "error",
     "traceback": [
      "\u001b[0;31m---------------------------------------------------------------------------\u001b[0m",
      "\u001b[0;31mAssertionError\u001b[0m                            Traceback (most recent call last)",
      "\u001b[0;32m<ipython-input-77-4ba1ed74d6bb>\u001b[0m in \u001b[0;36m<module>\u001b[0;34m()\u001b[0m\n\u001b[1;32m      9\u001b[0m     assert (set(params['boundary_conditions'].keys()) ==\n\u001b[1;32m     10\u001b[0m             \u001b[0mset\u001b[0m\u001b[0;34m(\u001b[0m\u001b[0;34m[\u001b[0m\u001b[0;34m'left'\u001b[0m\u001b[0;34m,\u001b[0m \u001b[0;34m'right'\u001b[0m\u001b[0;34m,\u001b[0m \u001b[0;34m'top'\u001b[0m\u001b[0;34m,\u001b[0m \u001b[0;34m'bottom'\u001b[0m\u001b[0;34m]\u001b[0m\u001b[0;34m)\u001b[0m\u001b[0;34m)\u001b[0m\u001b[0;34m,\u001b[0m \u001b[0;34m(\u001b[0m\u001b[0;34m\u001b[0m\u001b[0m\n\u001b[0;32m---> 11\u001b[0;31m             \u001b[0;34m\"The boundary names for square domains must be \"\u001b[0m\u001b[0;34m\u001b[0m\u001b[0m\n\u001b[0m\u001b[1;32m     12\u001b[0m             \u001b[0;34m\"['left', 'right', 'top', 'bottom']. Check that your \"\u001b[0m\u001b[0;34m\u001b[0m\u001b[0m\n\u001b[1;32m     13\u001b[0m             \"boundary conditions use those names.\")\n",
      "\u001b[0;31mAssertionError\u001b[0m: The boundary names for square domains must be ['left', 'right', 'top', 'bottom']. Check that your boundary conditions use those names."
     ]
    }
   ],
   "source": [
    "for key,value in default_params.items():\n",
    "    params[key] = params.get(key, default_params[key])\n",
    "\n",
    "for key,value in params.items():\n",
    "    if (value is None) or (value == 'None'):\n",
    "        params[key] = default_params[key]\n",
    "\n",
    "if params['domain_shape'] == 'square':\n",
    "    assert (set(params['boundary_conditions'].keys()) ==\n",
    "            set(['left', 'right', 'top', 'bottom'])), (\n",
    "            \"The boundary names for square domains must be \"\n",
    "            \"['left', 'right', 'top', 'bottom']. Check that your \"\n",
    "            \"boundary conditions use those names.\")\n",
    "        \n",
    "if params['domain_shape'] == 'outline':\n",
    "    assert (set(params['boundary_conditions'].keys()) ==\n",
    "            set(params['boundary_tags'].keys())), (\n",
    "            \"The boundary tag names don't match the boundary condition names. \"\n",
    "            \"Check that the two dictionaries use the same boundary names.\")"
   ]
  },
  {
   "cell_type": "code",
   "execution_count": 60,
   "metadata": {},
   "outputs": [],
   "source": [
    "assert set(params['boundary_conditions'].keys()) == set(params['boundary_tags'])"
   ]
  },
  {
   "cell_type": "code",
   "execution_count": 59,
   "metadata": {},
   "outputs": [
    {
     "data": {
      "text/plain": [
       "{'bottom', 'left', 'right', 'top'}"
      ]
     },
     "execution_count": 59,
     "metadata": {},
     "output_type": "execute_result"
    }
   ],
   "source": [
    "set(params['boundary_conditions'].keys())"
   ]
  },
  {
   "cell_type": "code",
   "execution_count": 58,
   "metadata": {},
   "outputs": [
    {
     "data": {
      "text/plain": [
       "{'bottom', 'left', 'right', 'top'}"
      ]
     },
     "execution_count": 58,
     "metadata": {},
     "output_type": "execute_result"
    }
   ],
   "source": [
    "set(params['boundary_tags'])"
   ]
  },
  {
   "cell_type": "code",
   "execution_count": null,
   "metadata": {
    "collapsed": true
   },
   "outputs": [],
   "source": []
  }
 ],
 "metadata": {
  "anaconda-cloud": {},
  "kernelspec": {
   "display_name": "Python [conda root]",
   "language": "python",
   "name": "conda-root-py"
  },
  "language_info": {
   "codemirror_mode": {
    "name": "ipython",
    "version": 2
   },
   "file_extension": ".py",
   "mimetype": "text/x-python",
   "name": "python",
   "nbconvert_exporter": "python",
   "pygments_lexer": "ipython2",
   "version": "2.7.13"
  }
 },
 "nbformat": 4,
 "nbformat_minor": 2
}
