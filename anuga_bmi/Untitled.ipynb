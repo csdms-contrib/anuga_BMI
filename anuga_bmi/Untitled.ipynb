{
 "cells": [
  {
   "cell_type": "code",
   "execution_count": 5,
   "metadata": {},
   "outputs": [
    {
     "ename": "KeyError",
     "evalue": "'stage'",
     "output_type": "error",
     "traceback": [
      "\u001b[0;31m---------------------------------------------------------------------------\u001b[0m",
      "\u001b[0;31mKeyError\u001b[0m                                  Traceback (most recent call last)",
      "\u001b[0;32m<ipython-input-5-5bf02447eb3b>\u001b[0m in \u001b[0;36m<module>\u001b[0;34m()\u001b[0m\n\u001b[1;32m     28\u001b[0m \u001b[0;32mif\u001b[0m \u001b[0m__name__\u001b[0m \u001b[0;34m==\u001b[0m \u001b[0;34m'__main__'\u001b[0m\u001b[0;34m:\u001b[0m\u001b[0;34m\u001b[0m\u001b[0m\n\u001b[1;32m     29\u001b[0m     \u001b[0msww\u001b[0m \u001b[0;34m=\u001b[0m \u001b[0mBmiAnuga\u001b[0m\u001b[0;34m(\u001b[0m\u001b[0;34m)\u001b[0m\u001b[0;34m\u001b[0m\u001b[0m\n\u001b[0;32m---> 30\u001b[0;31m     \u001b[0msww\u001b[0m\u001b[0;34m.\u001b[0m\u001b[0minitialize\u001b[0m\u001b[0;34m(\u001b[0m\u001b[0;34m'anuga.yaml'\u001b[0m\u001b[0;34m)\u001b[0m\u001b[0;34m\u001b[0m\u001b[0m\n\u001b[0m\u001b[1;32m     31\u001b[0m \u001b[0;34m\u001b[0m\u001b[0m\n\u001b[1;32m     32\u001b[0m \u001b[0;34m\u001b[0m\u001b[0m\n",
      "\u001b[0;32m/Users/mari/Desktop/work/anuga_github/anuga_BMI/anuga_bmi/bmi_anuga.pyc\u001b[0m in \u001b[0;36minitialize\u001b[0;34m(self, filename)\u001b[0m\n\u001b[1;32m     40\u001b[0m         self._anuga = AnugaSolver(\n\u001b[1;32m     41\u001b[0m             \u001b[0mdomain_shape\u001b[0m\u001b[0;34m=\u001b[0m\u001b[0mparams\u001b[0m\u001b[0;34m[\u001b[0m\u001b[0;34m'domain_shape'\u001b[0m\u001b[0;34m]\u001b[0m\u001b[0;34m,\u001b[0m\u001b[0;34m\u001b[0m\u001b[0m\n\u001b[0;32m---> 42\u001b[0;31m             \u001b[0mshape\u001b[0m\u001b[0;34m=\u001b[0m\u001b[0mparams\u001b[0m\u001b[0;34m[\u001b[0m\u001b[0;34m'shape'\u001b[0m\u001b[0;34m]\u001b[0m\u001b[0;34m,\u001b[0m\u001b[0;34m\u001b[0m\u001b[0m\n\u001b[0m\u001b[1;32m     43\u001b[0m             \u001b[0msize\u001b[0m\u001b[0;34m=\u001b[0m\u001b[0mparams\u001b[0m\u001b[0;34m[\u001b[0m\u001b[0;34m'size'\u001b[0m\u001b[0;34m]\u001b[0m\u001b[0;34m,\u001b[0m\u001b[0;34m\u001b[0m\u001b[0m\n\u001b[1;32m     44\u001b[0m             \u001b[0mfriction\u001b[0m\u001b[0;34m=\u001b[0m\u001b[0mparams\u001b[0m\u001b[0;34m[\u001b[0m\u001b[0;34m'friction'\u001b[0m\u001b[0;34m]\u001b[0m\u001b[0;34m,\u001b[0m\u001b[0;34m\u001b[0m\u001b[0m\n",
      "\u001b[0;31mKeyError\u001b[0m: 'stage'"
     ]
    }
   ],
   "source": [
    "import sys\n",
    "default_stdout = sys.stdout\n",
    "default_stderr = sys.stderr\n",
    "\n",
    "import sys\n",
    "\n",
    "\n",
    "import matplotlib.pyplot as plt\n",
    "%matplotlib inline\n",
    "\n",
    "from __future__ import print_function\n",
    "\n",
    "import sys\n",
    "import numpy as np\n",
    "\n",
    "from bmi_anuga import BmiAnuga\n",
    "\n",
    "reload(sys)\n",
    "sys.stdout = default_stdout\n",
    "sys.stderr = default_stderr\n",
    "\n",
    "\n",
    "\n",
    "np.set_printoptions(linewidth=120,\n",
    "                    formatter={'float_kind': lambda x : '%6.4F' % x})\n",
    "\n",
    "\n",
    "if __name__ == '__main__':\n",
    "    sww = BmiAnuga()\n",
    "    sww.initialize('anuga.yaml')\n",
    "    \n",
    "\n",
    "    for time in np.linspace(0., 100., 5):\n",
    "        sww.update_until(time)\n",
    "\n",
    "    "
   ]
  },
  {
   "cell_type": "code",
   "execution_count": 2,
   "metadata": {},
   "outputs": [],
   "source": [
    "import yaml"
   ]
  },
  {
   "cell_type": "code",
   "execution_count": 9,
   "metadata": {},
   "outputs": [],
   "source": [
    "default_params = {'domain_shape':'square',\n",
    "                          'shape':(10.,5.),\n",
    "                          'size':(10.,5.),\n",
    "                          'friction':0.,\n",
    "                          'outline_filename':None,\n",
    "                          'elevation_filename':None,\n",
    "                          'output_filename':'anuga_output',\n",
    "                          'output_timestep':10,\n",
    "                          'timestep':1,\n",
    "                          'boundary_tags':['left', 'right', 'top', 'bottom'],\n",
    "                          'boundary_conditions':{'left': 'Reflective',\n",
    "                                       'right': ['Dirichlet', 5, 0, 0],\n",
    "                                       'top': 'Reflective',\n",
    "                                       'bottom': 'Reflective'},\n",
    "                          'maximum_triangle_area':10}\n",
    "        \n",
    "with open('anuga.yaml', 'r') as file_obj:\n",
    "    params = yaml.load(file_obj)\n"
   ]
  },
  {
   "cell_type": "code",
   "execution_count": 15,
   "metadata": {},
   "outputs": [
    {
     "data": {
      "text/plain": [
       "{'boundary_conditions': {'bottom': 'Reflective',\n",
       "  'left': 'Reflective',\n",
       "  'right': ['Dirichlet', 5],\n",
       "  'top': 'Reflective'},\n",
       " 'boundary_tags': None,\n",
       " 'domain_shape': 'square',\n",
       " 'elevation_filename': 'None',\n",
       " 'maximum_triangle_area': 10,\n",
       " 'outline_filename': 'None',\n",
       " 'output_filename': 'sww_bmi',\n",
       " 'output_timestep': 1,\n",
       " 'shape': [10, 5],\n",
       " 'size': [10.0, 5.0],\n",
       " 'timestep': 5}"
      ]
     },
     "execution_count": 15,
     "metadata": {},
     "output_type": "execute_result"
    }
   ],
   "source": [
    "params"
   ]
  },
  {
   "cell_type": "code",
   "execution_count": 18,
   "metadata": {},
   "outputs": [
    {
     "data": {
      "text/plain": [
       "True"
      ]
     },
     "execution_count": 18,
     "metadata": {},
     "output_type": "execute_result"
    }
   ],
   "source": [
    "isinstance('string', str)"
   ]
  },
  {
   "cell_type": "code",
   "execution_count": 17,
   "metadata": {},
   "outputs": [
    {
     "data": {
      "text/plain": [
       "{'boundary_conditions': {'bottom': 'Reflective',\n",
       "  'left': 'Reflective',\n",
       "  'right': ['Dirichlet', 5, 0, 0],\n",
       "  'top': 'Reflective'},\n",
       " 'boundary_tags': ['left', 'right', 'top', 'bottom'],\n",
       " 'domain_shape': 'square',\n",
       " 'elevation_filename': None,\n",
       " 'friction': 0.0,\n",
       " 'maximum_triangle_area': 10,\n",
       " 'outline_filename': None,\n",
       " 'output_filename': 'anuga_output',\n",
       " 'output_timestep': 10,\n",
       " 'shape': (10.0, 5.0),\n",
       " 'size': (10.0, 5.0),\n",
       " 'timestep': 1}"
      ]
     },
     "execution_count": 17,
     "metadata": {},
     "output_type": "execute_result"
    }
   ],
   "source": [
    "params"
   ]
  },
  {
   "cell_type": "code",
   "execution_count": null,
   "metadata": {
    "collapsed": true
   },
   "outputs": [],
   "source": []
  }
 ],
 "metadata": {
  "anaconda-cloud": {},
  "kernelspec": {
   "display_name": "Python [conda root]",
   "language": "python",
   "name": "conda-root-py"
  },
  "language_info": {
   "codemirror_mode": {
    "name": "ipython",
    "version": 2
   },
   "file_extension": ".py",
   "mimetype": "text/x-python",
   "name": "python",
   "nbconvert_exporter": "python",
   "pygments_lexer": "ipython2",
   "version": "2.7.13"
  }
 },
 "nbformat": 4,
 "nbformat_minor": 2
}
