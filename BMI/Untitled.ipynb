{
 "cells": [
  {
   "cell_type": "code",
   "execution_count": 1,
   "metadata": {},
   "outputs": [
    {
     "name": "stdout",
     "output_type": "stream",
     "text": [
      "init elev: should be zeros\n",
      "[ 0.  0.  0.  0.  0.  0.  0.  0.  0.  0.  0.  0.  0.  0.  0.  0.  0.  0.\n",
      "  0.  0.  0.  0.  0.  0.  0.  0.  0.  0.  0.  0.  0.  0.  0.  0.  0.  0.]\n",
      "elev at start: max should be 3.91\n",
      "[ 3.91666667  3.75        3.58333333  3.75        3.91666667  3.75\n",
      "  3.58333333  3.75        3.91666667  3.75        3.58333333  3.75\n",
      "  3.41666667  3.25        3.08333333  3.25        3.41666667  3.25\n",
      "  3.08333333  3.25        3.41666667  3.25        3.08333333  3.25\n",
      "  2.91666667  2.75        2.58333333  2.75        2.91666667  2.75\n",
      "  2.58333333  2.75        2.91666667  2.75        2.58333333  2.75      ]\n",
      "elev - init elev: max should be 3.91\n",
      "[ 0.  0.  0.  0.  0.  0.  0.  0.  0.  0.  0.  0.  0.  0.  0.  0.  0.  0.\n",
      "  0.  0.  0.  0.  0.  0.  0.  0.  0.  0.  0.  0.  0.  0.  0.  0.  0.  0.]\n",
      "----\n",
      "init elev: max should be 3.91\n",
      "[ 3.91666667  3.75        3.58333333  3.75        3.91666667  3.75\n",
      "  3.58333333  3.75        3.91666667  3.75        3.58333333  3.75\n",
      "  3.41666667  3.25        3.08333333  3.25        3.41666667  3.25\n",
      "  3.08333333  3.25        3.41666667  3.25        3.08333333  3.25\n",
      "  2.91666667  2.75        2.58333333  2.75        2.91666667  2.75\n",
      "  2.58333333  2.75        2.91666667  2.75        2.58333333  2.75      ]\n",
      "elev at start: max should be 3.91\n",
      "[ 3.91666667  3.75        3.58333333  3.75        3.91666667  3.75\n",
      "  3.58333333  3.75        3.91666667  3.75        3.58333333  3.75\n",
      "  3.41666667  3.25        3.08333333  3.25        3.41666667  3.25\n",
      "  3.08333333  3.25        3.41666667  3.25        3.08333333  3.25\n",
      "  2.91666667  2.75        2.58333333  2.75        2.91666667  2.75\n",
      "  2.58333333  2.75        2.91666667  2.75        2.58333333  2.75      ]\n",
      "elev - init elev: should be zeros!!!!!!!!!!!!!!!!\n",
      "[ 0.  0.  0.  0.  0.  0.  0.  0.  0.  0.  0.  0.  0.  0.  0.  0.  0.  0.\n",
      "  0.  0.  0.  0.  0.  0.  0.  0.  0.  0.  0.  0.  0.  0.  0.  0.  0.  0.]\n",
      "----\n",
      "init elev: max should be 3.91\n",
      "[ 3.91666667  3.75        3.58333333  3.75        3.91666667  3.75\n",
      "  3.58333333  3.75        3.91666667  3.75        3.58333333  3.75\n",
      "  3.41666667  3.25        3.08333333  3.25        3.41666667  3.25\n",
      "  3.08333333  3.25        3.41666667  3.25        3.08333333  3.25\n",
      "  2.91666667  2.75        2.58333333  2.75        2.91666667  2.75\n",
      "  2.58333333  2.75        2.91666667  2.75        2.58333333  2.75      ]\n",
      "elev after update: max should be 4.91\n",
      "[ 4.91666667  4.75        4.58333333  4.75        4.91666667  4.75\n",
      "  4.58333333  4.75        4.91666667  4.75        4.58333333  4.75\n",
      "  4.41666667  4.25        4.08333333  4.25        4.41666667  4.25\n",
      "  4.08333333  4.25        4.41666667  4.25        4.08333333  4.25\n",
      "  3.91666667  3.75        3.58333333  3.75        3.91666667  3.75\n",
      "  3.58333333  3.75        3.91666667  3.75        3.58333333  3.75      ]\n",
      "elev - init elev: should be ones!!!!!!!!!!!!!!!!\n",
      "[ 0.  0.  0.  0.  0.  0.  0.  0.  0.  0.  0.  0.  0.  0.  0.  0.  0.  0.\n",
      "  0.  0.  0.  0.  0.  0.  0.  0.  0.  0.  0.  0.  0.  0.  0.  0.  0.  0.]\n",
      "----\n"
     ]
    }
   ],
   "source": [
    "import sys\n",
    "default_stdout = sys.stdout\n",
    "default_stderr = sys.stderr\n",
    "\n",
    "import sys\n",
    "\n",
    "\n",
    "import matplotlib.pyplot as plt\n",
    "%matplotlib inline\n",
    "\n",
    "from __future__ import print_function\n",
    "\n",
    "import sys\n",
    "import numpy as np\n",
    "\n",
    "from bmi_anuga import BmiAnuga\n",
    "\n",
    "reload(sys)\n",
    "sys.stdout = default_stdout\n",
    "sys.stderr = default_stderr\n",
    "\n",
    "if __name__ == '__main__':\n",
    "\n",
    "    sww = BmiAnuga()\n",
    "    sww.initialize('anuga.yaml')\n",
    "    \n",
    "    elev = sww.get_value('land_surface__elevation')\n",
    "    \n",
    "    print('init elev: should be zeros')\n",
    "    print(sww.get_value('land_surface__initial_elevation'))\n",
    "    print('elev at start: max should be 3.91')\n",
    "    print(sww.get_value('land_surface__elevation'))\n",
    "    print('elev - init elev: max should be 3.91')\n",
    "    print(sww.get_value('land_surface__time_derivative_of_elevation'))\n",
    "    print('----')\n",
    "    \n",
    "    sww.set_value('land_surface__initial_elevation', elev.copy())\n",
    "    \n",
    "    print('init elev: max should be 3.91')\n",
    "    print(sww.get_value('land_surface__initial_elevation'))\n",
    "    print('elev at start: max should be 3.91')\n",
    "    print(sww.get_value('land_surface__elevation'))\n",
    "    print('elev - init elev: should be zeros!!!!!!!!!!!!!!!!')\n",
    "    print(sww.get_value('land_surface__time_derivative_of_elevation'))\n",
    "    print('----')\n",
    "    \n",
    "    sww.set_value('land_surface__elevation', elev + 1)\n",
    "    \n",
    "    print('init elev: max should be 3.91')\n",
    "    print(sww.get_value('land_surface__initial_elevation'))\n",
    "    print('elev after update: max should be 4.91')\n",
    "    print(sww.get_value('land_surface__elevation'))\n",
    "    print('elev - init elev: should be ones!!!!!!!!!!!!!!!!')\n",
    "    print(sww.get_value('land_surface__time_derivative_of_elevation'))\n",
    "    print('----')\n",
    "\n",
    "#     for time in np.linspace(0., 50., 5):\n",
    "    \n",
    "#         sww.update_until(time)\n"
   ]
  },
  {
   "cell_type": "code",
   "execution_count": 2,
   "metadata": {},
   "outputs": [
    {
     "data": {
      "text/plain": [
       "array([ 3.91666667,  3.75      ,  3.58333333,  3.75      ,  3.91666667,\n",
       "        3.75      ,  3.58333333,  3.75      ,  3.91666667,  3.75      ,\n",
       "        3.58333333,  3.75      ,  3.41666667,  3.25      ,  3.08333333,\n",
       "        3.25      ,  3.41666667,  3.25      ,  3.08333333,  3.25      ,\n",
       "        3.41666667,  3.25      ,  3.08333333,  3.25      ,  2.91666667,\n",
       "        2.75      ,  2.58333333,  2.75      ,  2.91666667,  2.75      ,\n",
       "        2.58333333,  2.75      ,  2.91666667,  2.75      ,  2.58333333,\n",
       "        2.75      ])"
      ]
     },
     "execution_count": 2,
     "metadata": {},
     "output_type": "execute_result"
    }
   ],
   "source": [
    "sww.get_value('land_surface__time_derivative_of_elevation')"
   ]
  },
  {
   "cell_type": "code",
   "execution_count": 3,
   "metadata": {},
   "outputs": [
    {
     "data": {
      "text/plain": [
       "array([ 1.,  1.,  1.,  1.,  1.,  1.,  1.,  1.,  1.,  1.,  1.,  1.,  1.,\n",
       "        1.,  1.,  1.,  1.,  1.,  1.,  1.,  1.,  1.,  1.,  1.,  1.,  1.,\n",
       "        1.,  1.,  1.,  1.,  1.,  1.,  1.,  1.,  1.,  1.])"
      ]
     },
     "execution_count": 3,
     "metadata": {},
     "output_type": "execute_result"
    }
   ],
   "source": [
    "sww._anuga.land_surface__time_derivative_of_elevation"
   ]
  },
  {
   "cell_type": "code",
   "execution_count": null,
   "metadata": {
    "collapsed": true
   },
   "outputs": [],
   "source": []
  },
  {
   "cell_type": "code",
   "execution_count": null,
   "metadata": {
    "collapsed": true
   },
   "outputs": [],
   "source": []
  },
  {
   "cell_type": "code",
   "execution_count": 1,
   "metadata": {
    "collapsed": true
   },
   "outputs": [],
   "source": [
    "import yaml"
   ]
  },
  {
   "cell_type": "code",
   "execution_count": 76,
   "metadata": {
    "collapsed": true
   },
   "outputs": [],
   "source": [
    "default_params = {'domain_shape':'square',\n",
    "                          'shape':(10.,5.),\n",
    "                          'size':(10.,5.),\n",
    "                          'friction':0.,\n",
    "                          'outline_filename':None,\n",
    "                          'elevation_filename':None,\n",
    "                          'output_filename':'anuga_output',\n",
    "                          'output_timestep':10,\n",
    "                          'timestep':1,\n",
    "                          'boundary_tags':['left', 'right', 'top', 'bottom'],\n",
    "                          'boundary_conditions':{'left': 'Reflective',\n",
    "                                       'right': ['Dirichlet', 5, 0, 0],\n",
    "                                       'top': 'Reflective',\n",
    "                                       'bottom': 'Reflective'},\n",
    "                          'maximum_triangle_area':10}\n",
    "        \n",
    "with open('anuga.yaml', 'r') as file_obj:\n",
    "    params = yaml.load(file_obj)\n"
   ]
  },
  {
   "cell_type": "code",
   "execution_count": 77,
   "metadata": {},
   "outputs": [
    {
     "ename": "AssertionError",
     "evalue": "The boundary names for square domains must be ['left', 'right', 'top', 'bottom']. Check that your boundary conditions use those names.",
     "output_type": "error",
     "traceback": [
      "\u001b[0;31m---------------------------------------------------------------------------\u001b[0m",
      "\u001b[0;31mAssertionError\u001b[0m                            Traceback (most recent call last)",
      "\u001b[0;32m<ipython-input-77-4ba1ed74d6bb>\u001b[0m in \u001b[0;36m<module>\u001b[0;34m()\u001b[0m\n\u001b[1;32m      9\u001b[0m     assert (set(params['boundary_conditions'].keys()) ==\n\u001b[1;32m     10\u001b[0m             \u001b[0mset\u001b[0m\u001b[0;34m(\u001b[0m\u001b[0;34m[\u001b[0m\u001b[0;34m'left'\u001b[0m\u001b[0;34m,\u001b[0m \u001b[0;34m'right'\u001b[0m\u001b[0;34m,\u001b[0m \u001b[0;34m'top'\u001b[0m\u001b[0;34m,\u001b[0m \u001b[0;34m'bottom'\u001b[0m\u001b[0;34m]\u001b[0m\u001b[0;34m)\u001b[0m\u001b[0;34m)\u001b[0m\u001b[0;34m,\u001b[0m \u001b[0;34m(\u001b[0m\u001b[0;34m\u001b[0m\u001b[0m\n\u001b[0;32m---> 11\u001b[0;31m             \u001b[0;34m\"The boundary names for square domains must be \"\u001b[0m\u001b[0;34m\u001b[0m\u001b[0m\n\u001b[0m\u001b[1;32m     12\u001b[0m             \u001b[0;34m\"['left', 'right', 'top', 'bottom']. Check that your \"\u001b[0m\u001b[0;34m\u001b[0m\u001b[0m\n\u001b[1;32m     13\u001b[0m             \"boundary conditions use those names.\")\n",
      "\u001b[0;31mAssertionError\u001b[0m: The boundary names for square domains must be ['left', 'right', 'top', 'bottom']. Check that your boundary conditions use those names."
     ]
    }
   ],
   "source": [
    "for key,value in default_params.items():\n",
    "    params[key] = params.get(key, default_params[key])\n",
    "\n",
    "for key,value in params.items():\n",
    "    if (value is None) or (value == 'None'):\n",
    "        params[key] = default_params[key]\n",
    "\n",
    "if params['domain_shape'] == 'square':\n",
    "    assert (set(params['boundary_conditions'].keys()) ==\n",
    "            set(['left', 'right', 'top', 'bottom'])), (\n",
    "            \"The boundary names for square domains must be \"\n",
    "            \"['left', 'right', 'top', 'bottom']. Check that your \"\n",
    "            \"boundary conditions use those names.\")\n",
    "        \n",
    "if params['domain_shape'] == 'outline':\n",
    "    assert (set(params['boundary_conditions'].keys()) ==\n",
    "            set(params['boundary_tags'].keys())), (\n",
    "            \"The boundary tag names don't match the boundary condition names. \"\n",
    "            \"Check that the two dictionaries use the same boundary names.\")"
   ]
  },
  {
   "cell_type": "code",
   "execution_count": 60,
   "metadata": {},
   "outputs": [],
   "source": [
    "assert set(params['boundary_conditions'].keys()) == set(params['boundary_tags'])"
   ]
  },
  {
   "cell_type": "code",
   "execution_count": 59,
   "metadata": {},
   "outputs": [
    {
     "data": {
      "text/plain": [
       "{'bottom', 'left', 'right', 'top'}"
      ]
     },
     "execution_count": 59,
     "metadata": {},
     "output_type": "execute_result"
    }
   ],
   "source": [
    "set(params['boundary_conditions'].keys())"
   ]
  },
  {
   "cell_type": "code",
   "execution_count": 58,
   "metadata": {},
   "outputs": [
    {
     "data": {
      "text/plain": [
       "{'bottom', 'left', 'right', 'top'}"
      ]
     },
     "execution_count": 58,
     "metadata": {},
     "output_type": "execute_result"
    }
   ],
   "source": [
    "set(params['boundary_tags'])"
   ]
  },
  {
   "cell_type": "code",
   "execution_count": null,
   "metadata": {
    "collapsed": true
   },
   "outputs": [],
   "source": []
  }
 ],
 "metadata": {
  "anaconda-cloud": {},
  "kernelspec": {
   "display_name": "Python [conda root]",
   "language": "python",
   "name": "conda-root-py"
  },
  "language_info": {
   "codemirror_mode": {
    "name": "ipython",
    "version": 2
   },
   "file_extension": ".py",
   "mimetype": "text/x-python",
   "name": "python",
   "nbconvert_exporter": "python",
   "pygments_lexer": "ipython2",
   "version": "2.7.13"
  }
 },
 "nbformat": 4,
 "nbformat_minor": 2
}
